{
 "cells": [
  {
   "cell_type": "markdown",
   "source": [
    "## 加载"
   ],
   "metadata": {
    "collapsed": false
   }
  },
  {
   "cell_type": "code",
   "execution_count": 2,
   "metadata": {
    "collapsed": true
   },
   "outputs": [
    {
     "name": "stdout",
     "output_type": "stream",
     "text": [
      "train Data loaded\n",
      "t10k Data loaded\n"
     ]
    }
   ],
   "source": [
    "import matplotlib.pyplot as plt\n",
    "import argparse\n",
    "from Linear import Linear\n",
    "import PrePro as pr\n",
    "\n",
    "\n",
    "\"\"\"\n",
    "input params, including stride length, batch size, maximal iteration and Train Set folder\n",
    "\"\"\"\n",
    "'''\n",
    "def process_command():\n",
    "    parser = argparse.ArgumentParser()\n",
    "    parser.add_argument('--iter', '-t', type=int, default=30, help='Number of iterations')\n",
    "    parser.add_argument('--stride','-l', type=float, default=0.01, help='Initial Stride Length')\n",
    "    parser.add_argument('--batch', '-b', type=int, default=512, help='Batch Size Number')\n",
    "    parser.add_argument('--train', '-tr', type=str, default='TrainSet', help='Train Set folder')\n",
    "    parser.add_argument('--test', '-ts', type=str, default='TestSet', help='TestSet folder')\n",
    "    return parser.parse_args()\n",
    "\n",
    "\n",
    "args = process_command()\n",
    "test = args.test\n",
    "T=args.iter\n",
    "stride=args.stride\n",
    "batch=args.batch\n",
    "train=args.train\n",
    "'''\n",
    "T=30\n",
    "train='TrainSet'\n",
    "test='TestSet'\n",
    "stride=0.01\n",
    "batch=512\n",
    "train_x,train_y = pr.load(train,'train')\n",
    "test_x, test_y = pr.load(test, 't10k')\n",
    "L=Linear(train_x,train_y)"
   ]
  },
  {
   "cell_type": "markdown",
   "source": [
    "## 训练"
   ],
   "metadata": {
    "collapsed": false
   }
  },
  {
   "cell_type": "code",
   "execution_count": null,
   "outputs": [],
   "source": [
    "#L.load()\n",
    "L.train(T,stride,batch)\n",
    "L.save()"
   ],
   "metadata": {
    "collapsed": false,
    "pycharm": {
     "name": "#%%\n"
    }
   }
  },
  {
   "cell_type": "markdown",
   "source": [
    "## 测试准确率"
   ],
   "metadata": {
    "collapsed": false
   }
  },
  {
   "cell_type": "code",
   "execution_count": 3,
   "outputs": [
    {
     "name": "stdout",
     "output_type": "stream",
     "text": [
      "0.8164\n"
     ]
    }
   ],
   "source": [
    "L.load()\n",
    "print(L.test(test_x,test_y))"
   ],
   "metadata": {
    "collapsed": false,
    "pycharm": {
     "name": "#%%\n"
    }
   }
  },
  {
   "cell_type": "markdown",
   "source": [
    "## 预测"
   ],
   "metadata": {
    "collapsed": false
   }
  },
  {
   "cell_type": "code",
   "execution_count": 4,
   "outputs": [
    {
     "name": "stdout",
     "output_type": "stream",
     "text": [
      "y is:3\n",
      "your predicate result is :3\n"
     ]
    },
    {
     "data": {
      "text/plain": "<Figure size 432x288 with 1 Axes>",
      "image/png": "[encoded data removed]"
     },
     "metadata": {
      "needs_background": "light"
     },
     "output_type": "display_data"
    }
   ],
   "source": [
    "x=test_x[18]\n",
    "pred_y = L.predict(x)\n",
    "plt.imshow(x.reshape((28,28)),cmap = plt.cm.gray)\n",
    "print(\"y is:\"+str(test_y[18]))\n",
    "print(\"your predicate result is :\"+str(pred_y))\n",
    "\n"
   ],
   "metadata": {
    "collapsed": false,
    "pycharm": {
     "name": "#%%\n"
    }
   }
  }
 ],
 "metadata": {
  "kernelspec": {
   "display_name": "Python 3",
   "language": "python",
   "name": "python3"
  },
  "language_info": {
   "codemirror_mode": {
    "name": "ipython",
    "version": 2
   },
   "file_extension": ".py",
   "mimetype": "text/x-python",
   "name": "python",
   "nbconvert_exporter": "python",
   "pygments_lexer": "ipython2",
   "version": "2.7.6"
  }
 },
 "nbformat": 4,
 "nbformat_minor": 0
}