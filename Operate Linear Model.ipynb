{
 "cells": [
  {
   "cell_type": "markdown",
   "source": [
    "## 加载"
   ],
   "metadata": {
    "collapsed": false
   }
  },
  {
   "cell_type": "code",
   "execution_count": 1,
   "metadata": {
    "collapsed": true
   },
   "outputs": [
    {
     "name": "stdout",
     "output_type": "stream",
     "text": [
      "train Data loaded\n",
      "t10k Data loaded\n"
     ]
    }
   ],
   "source": [
    "import matplotlib.pyplot as plt\n",
    "import xlsxwriter\n",
    "from Linear import Linear\n",
    "import PrePro as pr\n",
    "\n",
    "\n",
    "T=30\n",
    "train='TrainSet'\n",
    "test='TestSet'\n",
    "rate=0.01\n",
    "batch=256\n",
    "train_x,train_y = pr.load(train,'train')\n",
    "test_x, test_y = pr.load(test, 't10k')\n",
    "L=Linear(train_x,train_y)"
   ]
  },
  {
   "cell_type": "markdown",
   "source": [
    "## 训练"
   ],
   "metadata": {
    "collapsed": false
   }
  },
  {
   "cell_type": "code",
   "execution_count": 2,
   "outputs": [
    {
     "name": "stdout",
     "output_type": "stream",
     "text": [
      "0\n",
      "\u001B[F1\n",
      "\u001B[F2\n",
      "\u001B[F3\n",
      "\u001B[F4\n",
      "\u001B[F5\n",
      "\u001B[F6\n",
      "\u001B[F7\n",
      "\u001B[F8\n",
      "\u001B[F9\n",
      "\u001B[Fiteration 0, loss 1.833922993965082\n",
      "0\n",
      "\u001B[F1\n",
      "\u001B[F2\n",
      "\u001B[F3\n",
      "\u001B[F4\n",
      "\u001B[F5\n",
      "\u001B[F6\n",
      "\u001B[F7\n",
      "\u001B[F8\n",
      "\u001B[F9\n",
      "\u001B[Fiteration 1, loss 1.5625365710203114\n",
      "0\n",
      "\u001B[F1\n",
      "\u001B[F2\n",
      "\u001B[F3\n",
      "\u001B[F4\n",
      "\u001B[F5\n",
      "\u001B[F6\n",
      "\u001B[F7\n",
      "\u001B[F8\n",
      "\u001B[F9\n",
      "\u001B[Fiteration 2, loss 1.3964741876637754\n",
      "0\n",
      "\u001B[F1\n",
      "\u001B[F2\n",
      "\u001B[F3\n",
      "\u001B[F4\n",
      "\u001B[F5\n",
      "\u001B[F6\n",
      "\u001B[F7\n",
      "\u001B[F8\n",
      "\u001B[F9\n",
      "\u001B[Fiteration 3, loss 1.2743669038812775\n",
      "0\n",
      "\u001B[F1\n",
      "\u001B[F2\n",
      "\u001B[F3\n",
      "\u001B[F4\n",
      "\u001B[F5\n",
      "\u001B[F6\n",
      "\u001B[F7\n",
      "\u001B[F8\n",
      "\u001B[F9\n",
      "\u001B[Fiteration 4, loss 1.1883216231908187\n",
      "0\n",
      "\u001B[F1\n",
      "\u001B[F2\n",
      "\u001B[F3\n",
      "\u001B[F4\n",
      "\u001B[F5\n",
      "\u001B[F6\n",
      "\u001B[F7\n",
      "\u001B[F8\n",
      "\u001B[F9\n",
      "\u001B[Fiteration 5, loss 1.126795435158401\n",
      "0\n",
      "\u001B[F1\n",
      "\u001B[F2\n",
      "\u001B[F3\n",
      "\u001B[F4\n",
      "\u001B[F5\n",
      "\u001B[F6\n",
      "\u001B[F7\n",
      "\u001B[F8\n",
      "\u001B[F9\n",
      "\u001B[Fiteration 6, loss 1.0850661099609265\n",
      "0\n",
      "\u001B[F1\n",
      "\u001B[F2\n",
      "\u001B[F3\n",
      "\u001B[F4\n",
      "\u001B[F5\n",
      "\u001B[F6\n",
      "\u001B[F7\n",
      "\u001B[F8\n",
      "\u001B[F9\n",
      "\u001B[Fiteration 7, loss 1.0473446894886473\n",
      "0\n",
      "\u001B[F1\n",
      "\u001B[F2\n",
      "\u001B[F3\n",
      "\u001B[F4\n",
      "\u001B[F5\n",
      "\u001B[F6\n",
      "\u001B[F7\n",
      "\u001B[F8\n",
      "\u001B[F9\n",
      "\u001B[Fiteration 8, loss 1.0065134564047278\n",
      "0\n",
      "\u001B[F1\n",
      "\u001B[F2\n",
      "\u001B[F3\n",
      "\u001B[F4\n",
      "\u001B[F5\n",
      "\u001B[F6\n",
      "\u001B[F7\n",
      "\u001B[F8\n",
      "\u001B[F9\n",
      "\u001B[Fiteration 9, loss 0.9784408269312616\n",
      "0\n",
      "\u001B[F1\n",
      "\u001B[F2\n",
      "\u001B[F3\n",
      "\u001B[F4\n",
      "\u001B[F5\n",
      "\u001B[F6\n",
      "\u001B[F7\n",
      "\u001B[F8\n",
      "\u001B[F9\n",
      "\u001B[Fiteration 10, loss 0.9529082631858763\n",
      "0\n",
      "\u001B[F1\n",
      "\u001B[F2\n",
      "\u001B[F3\n",
      "\u001B[F4\n",
      "\u001B[F5\n",
      "\u001B[F6\n",
      "\u001B[F7\n",
      "\u001B[F8\n",
      "\u001B[F9\n",
      "\u001B[Fiteration 11, loss 0.9332893124247771\n",
      "0\n",
      "\u001B[F1\n",
      "\u001B[F2\n",
      "\u001B[F3\n",
      "\u001B[F4\n",
      "\u001B[F5\n",
      "\u001B[F6\n",
      "\u001B[F7\n",
      "\u001B[F8\n",
      "\u001B[F9\n",
      "\u001B[Fiteration 12, loss 0.9174808174029353\n",
      "0\n",
      "\u001B[F1\n",
      "\u001B[F2\n",
      "\u001B[F3\n",
      "\u001B[F4\n",
      "\u001B[F5\n",
      "\u001B[F6\n",
      "\u001B[F7\n",
      "\u001B[F8\n",
      "\u001B[F9\n",
      "\u001B[Fiteration 13, loss 0.8983205225073303\n",
      "0\n",
      "\u001B[F1\n",
      "\u001B[F2\n",
      "\u001B[F3\n",
      "\u001B[F4\n",
      "\u001B[F5\n",
      "\u001B[F6\n",
      "\u001B[F7\n",
      "\u001B[F8\n",
      "\u001B[F9\n",
      "\u001B[Fiteration 14, loss 0.8824088026909856\n"
     ]
    }
   ],
   "source": [
    "#L.load()\n",
    "x=[2.3]\n",
    "y=[0.1]\n",
    "loss=10\n",
    "for t in range(15):\n",
    "    loss = L.train(rate,batch,t)\n",
    "    accuracy=L.test(test_x,test_y)\n",
    "    x.append(loss)\n",
    "    y.append(accuracy)\n",
    "    if loss<0.2: break\n",
    "L.save()"
   ],
   "metadata": {
    "collapsed": false,
    "pycharm": {
     "name": "#%%\n"
    }
   }
  },
  {
   "cell_type": "markdown",
   "source": [
    "## 画图"
   ],
   "metadata": {
    "collapsed": false
   }
  },
  {
   "cell_type": "code",
   "execution_count": 5,
   "outputs": [
    {
     "data": {
      "text/plain": "<Figure size 432x288 with 1 Axes>",
      "image/png": "[encoded data removed]"
     },
     "metadata": {
      "needs_background": "light"
     },
     "output_type": "display_data"
    }
   ],
   "source": [
    "T=range(15)\n",
    "plt.plot(T, x[:15])\n",
    "plt.xlim(0, 15)\n",
    "plt.ylim(0, 2.5)\n",
    "plt.xlabel('iters')\n",
    "plt.ylabel(\"loss\")\n",
    "plt.title('Linear Loss: batch = %d Learning rate = %.4f' % (batch,rate))\n",
    "for i in T:\n",
    "    plt.annotate('%.2f' % x[i], xy=[T[i],x[i]+0.05])\n",
    "plt.savefig('/Users/zbx/Desktop/LinearLoss.jpg')\n",
    "plt.show()\n",
    "plt.close()\n",
    "\n",
    "plt.plot(T, y[:15])\n",
    "plt.xlim(0, 15)\n",
    "plt.ylim(0, 1)\n",
    "plt.xlabel('iters')\n",
    "plt.ylabel(\"accuracy\")\n",
    "plt.title('Linear Accuracy: batch = %d Learning rate = %.4f' % (batch,rate))\n",
    "for i in T:\n",
    "    plt.annotate('%.2f' % y[i] , xy=[T[i],y[i]+0.02])\n",
    "plt.savefig('/Users/zbx/Desktop/Linearacc.jpg')\n",
    "plt.close()"
   ],
   "metadata": {
    "collapsed": false,
    "pycharm": {
     "name": "#%%\n"
    }
   }
  },
  {
   "cell_type": "markdown",
   "source": [
    "## 测试准确率"
   ],
   "metadata": {
    "collapsed": false
   }
  },
  {
   "cell_type": "code",
   "execution_count": 3,
   "outputs": [
    {
     "name": "stdout",
     "output_type": "stream",
     "text": [
      "0.8164\n"
     ]
    }
   ],
   "source": [
    "L.load()\n",
    "print(L.test(test_x,test_y))"
   ],
   "metadata": {
    "collapsed": false,
    "pycharm": {
     "name": "#%%\n"
    }
   }
  },
  {
   "cell_type": "markdown",
   "source": [
    "## 预测"
   ],
   "metadata": {
    "collapsed": false
   }
  },
  {
   "cell_type": "code",
   "execution_count": 4,
   "outputs": [
    {
     "name": "stdout",
     "output_type": "stream",
     "text": [
      "y is:3\n",
      "your predicate result is :3\n"
     ]
    },
    {
     "data": {
      "text/plain": "<Figure size 432x288 with 1 Axes>",
      "image/png": "[encoded data removed]"
     },
     "metadata": {
      "needs_background": "light"
     },
     "output_type": "display_data"
    }
   ],
   "source": [
    "x=test_x[18]\n",
    "pred_y = L.predict(x)\n",
    "plt.imshow(x.reshape((28,28)),cmap = plt.cm.gray)\n",
    "print(\"y is:\"+str(test_y[18]))\n",
    "print(\"your predicate result is :\"+str(pred_y))\n",
    "\n"
   ],
   "metadata": {
    "collapsed": false,
    "pycharm": {
     "name": "#%%\n"
    }
   }
  }
 ],
 "metadata": {
  "kernelspec": {
   "display_name": "Python 3",
   "language": "python",
   "name": "python3"
  },
  "language_info": {
   "codemirror_mode": {
    "name": "ipython",
    "version": 2
   },
   "file_extension": ".py",
   "mimetype": "text/x-python",
   "name": "python",
   "nbconvert_exporter": "python",
   "pygments_lexer": "ipython2",
   "version": "2.7.6"
  }
 },
 "nbformat": 4,
 "nbformat_minor": 0
}