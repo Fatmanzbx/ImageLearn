{
 "cells": [
  {
   "cell_type": "code",
   "execution_count": 1,
   "metadata": {
    "collapsed": true
   },
   "outputs": [
    {
     "name": "stdout",
     "output_type": "stream",
     "text": [
      "train Data loaded\n",
      "t10k Data loaded\n",
      "parameter initializing...\n",
      "network initializing...\n"
     ]
    }
   ],
   "source": [
    "import PrePro as pr\n",
    "from BP import BP\n",
    "import matplotlib.pyplot as plt\n",
    "\n",
    "train = 'TrainSet'\n",
    "test = 'TestSet'\n",
    "train_x, train_y = pr.load(train, 'train')\n",
    "test_x, test_y = pr.load(test, 't10k')\n",
    "data = BP()\n",
    "data.init_network(train_x / 255.0, train_y)"
   ]
  },
  {
   "cell_type": "code",
   "execution_count": 2,
   "outputs": [
    {
     "name": "stdout",
     "output_type": "stream",
     "text": [
      "Training Round 0\n",
      "0.08190000000000373\n"
     ]
    }
   ],
   "source": [
    "x=[2.3]\n",
    "y=[0.1]\n",
    "for i in range(1):\n",
    "    data.train(i)\n",
    "    loss=data.loss()\n",
    "    x.append(loss)\n",
    "    y.append(data.test(test_x/255.0,test_y))\n",
    "    if loss<0.01:break\n",
    "print(data.error())"
   ],
   "metadata": {
    "collapsed": false,
    "pycharm": {
     "name": "#%%\n"
    }
   }
  },
  {
   "cell_type": "markdown",
   "source": [
    "## 画图"
   ],
   "metadata": {
    "collapsed": false
   }
  },
  {
   "cell_type": "code",
   "execution_count": 10,
   "outputs": [],
   "source": [
    "print(y)\n",
    "T=range(1,20)\n",
    "\n",
    "plt.plot(T, y[1:20])\n",
    "plt.xlim(0, 20)\n",
    "plt.ylim(0.9, 1)\n",
    "plt.xlabel('iters')\n",
    "plt.ylabel(\"accuracy\")\n",
    "plt.title('BP Accuracy: Learning rate = %.4f' % (data.study_rate))\n",
    "for i in range(19):\n",
    "    plt.annotate('%.2f' % y[i] , xy=[T[i-1],y[i]+0.005])\n",
    "plt.savefig('/Users/zbx/Desktop/NNacc.jpg')\n",
    "plt.close()"
   ],
   "metadata": {
    "collapsed": false,
    "pycharm": {
     "name": "#%%\n"
    }
   }
  },
  {
   "cell_type": "code",
   "execution_count": 3,
   "outputs": [
    {
     "name": "stdout",
     "output_type": "stream",
     "text": [
      "parameter initializing...\n",
      "network initializing...\n",
      "Training Round 0\n",
      "Training Round 1\n",
      "Training Round 2\n"
     ]
    },
    {
     "ename": "KeyboardInterrupt",
     "evalue": "",
     "output_type": "error",
     "traceback": [
      "\u001B[0;31m---------------------------------------------------------------------------\u001B[0m",
      "\u001B[0;31mKeyboardInterrupt\u001B[0m                         Traceback (most recent call last)",
      "\u001B[0;32m<ipython-input-3-1b14c72e3bcd>\u001B[0m in \u001B[0;36m<module>\u001B[0;34m\u001B[0m\n\u001B[1;32m     26\u001B[0m     \u001B[0mf\u001B[0m\u001B[0;34m.\u001B[0m\u001B[0mclose\u001B[0m\u001B[0;34m(\u001B[0m\u001B[0;34m)\u001B[0m\u001B[0;34m\u001B[0m\u001B[0;34m\u001B[0m\u001B[0m\n\u001B[1;32m     27\u001B[0m \u001B[0;34m\u001B[0m\u001B[0m\n\u001B[0;32m---> 28\u001B[0;31m \u001B[0madjust\u001B[0m\u001B[0;34m(\u001B[0m\u001B[0mtrain_x\u001B[0m\u001B[0;34m,\u001B[0m\u001B[0mtrain_y\u001B[0m\u001B[0;34m,\u001B[0m\u001B[0mtest_x\u001B[0m\u001B[0;34m,\u001B[0m\u001B[0mtest_y\u001B[0m\u001B[0;34m)\u001B[0m\u001B[0;34m\u001B[0m\u001B[0;34m\u001B[0m\u001B[0m\n\u001B[0m",
      "\u001B[0;32m<ipython-input-3-1b14c72e3bcd>\u001B[0m in \u001B[0;36madjust\u001B[0;34m(train_x, train_y, test_x, test_y)\u001B[0m\n\u001B[1;32m      9\u001B[0m         \u001B[0ma\u001B[0m\u001B[0;34m=\u001B[0m\u001B[0;34m[\u001B[0m\u001B[0;36m0.1\u001B[0m\u001B[0;34m]\u001B[0m\u001B[0;34m\u001B[0m\u001B[0;34m\u001B[0m\u001B[0m\n\u001B[1;32m     10\u001B[0m         \u001B[0;32mfor\u001B[0m \u001B[0mi\u001B[0m \u001B[0;32min\u001B[0m \u001B[0mrange\u001B[0m\u001B[0;34m(\u001B[0m\u001B[0;36m10\u001B[0m\u001B[0;34m)\u001B[0m\u001B[0;34m:\u001B[0m\u001B[0;34m\u001B[0m\u001B[0;34m\u001B[0m\u001B[0m\n\u001B[0;32m---> 11\u001B[0;31m             \u001B[0mdata\u001B[0m\u001B[0;34m.\u001B[0m\u001B[0mtrain\u001B[0m\u001B[0;34m(\u001B[0m\u001B[0mi\u001B[0m\u001B[0;34m)\u001B[0m\u001B[0;34m\u001B[0m\u001B[0;34m\u001B[0m\u001B[0m\n\u001B[0m\u001B[1;32m     12\u001B[0m             \u001B[0maccuracy\u001B[0m\u001B[0;34m=\u001B[0m\u001B[0mdata\u001B[0m\u001B[0;34m.\u001B[0m\u001B[0mtest\u001B[0m\u001B[0;34m(\u001B[0m\u001B[0mtest_x\u001B[0m\u001B[0;34m/\u001B[0m\u001B[0;36m255.0\u001B[0m\u001B[0;34m,\u001B[0m\u001B[0mtest_y\u001B[0m\u001B[0;34m)\u001B[0m\u001B[0;34m\u001B[0m\u001B[0;34m\u001B[0m\u001B[0m\n\u001B[1;32m     13\u001B[0m             \u001B[0ma\u001B[0m\u001B[0;34m.\u001B[0m\u001B[0mappend\u001B[0m\u001B[0;34m(\u001B[0m\u001B[0maccuracy\u001B[0m\u001B[0;34m)\u001B[0m\u001B[0;34m\u001B[0m\u001B[0;34m\u001B[0m\u001B[0m\n",
      "\u001B[0;32m~/PycharmProjects/ML/BP.py\u001B[0m in \u001B[0;36mtrain\u001B[0;34m(self, iter)\u001B[0m\n\u001B[1;32m     47\u001B[0m             \"\"\"\n\u001B[1;32m     48\u001B[0m             \u001B[0msample_i\u001B[0m\u001B[0;34m=\u001B[0m\u001B[0mnp\u001B[0m\u001B[0;34m.\u001B[0m\u001B[0mrandom\u001B[0m\u001B[0;34m.\u001B[0m\u001B[0mrandint\u001B[0m\u001B[0;34m(\u001B[0m\u001B[0;36m0\u001B[0m\u001B[0;34m,\u001B[0m\u001B[0mself\u001B[0m\u001B[0;34m.\u001B[0m\u001B[0mnum_train\u001B[0m\u001B[0;34m)\u001B[0m\u001B[0;34m\u001B[0m\u001B[0;34m\u001B[0m\u001B[0m\n\u001B[0;32m---> 49\u001B[0;31m             \u001B[0mself\u001B[0m\u001B[0;34m.\u001B[0m\u001B[0mforward\u001B[0m\u001B[0;34m(\u001B[0m\u001B[0mself\u001B[0m\u001B[0;34m.\u001B[0m\u001B[0mtrain_imag_list\u001B[0m\u001B[0;34m[\u001B[0m\u001B[0msample_i\u001B[0m\u001B[0;34m]\u001B[0m\u001B[0;34m)\u001B[0m\u001B[0;34m\u001B[0m\u001B[0;34m\u001B[0m\u001B[0m\n\u001B[0m\u001B[1;32m     50\u001B[0m             \u001B[0mtmp_label\u001B[0m\u001B[0;34m=\u001B[0m\u001B[0mnp\u001B[0m\u001B[0;34m.\u001B[0m\u001B[0mzeros\u001B[0m\u001B[0;34m(\u001B[0m\u001B[0mself\u001B[0m\u001B[0;34m.\u001B[0m\u001B[0mkinds\u001B[0m\u001B[0;34m)\u001B[0m\u001B[0;34m\u001B[0m\u001B[0;34m\u001B[0m\u001B[0m\n\u001B[1;32m     51\u001B[0m             \u001B[0mtmp_label\u001B[0m\u001B[0;34m[\u001B[0m\u001B[0mint\u001B[0m\u001B[0;34m(\u001B[0m\u001B[0mself\u001B[0m\u001B[0;34m.\u001B[0m\u001B[0mtrain_label_list\u001B[0m\u001B[0;34m[\u001B[0m\u001B[0msample_i\u001B[0m\u001B[0;34m]\u001B[0m\u001B[0;34m)\u001B[0m\u001B[0;34m]\u001B[0m\u001B[0;34m=\u001B[0m\u001B[0;36m1\u001B[0m\u001B[0;34m\u001B[0m\u001B[0;34m\u001B[0m\u001B[0m\n",
      "\u001B[0;32m~/PycharmProjects/ML/BP.py\u001B[0m in \u001B[0;36mforward\u001B[0;34m(self, x)\u001B[0m\n\u001B[1;32m     33\u001B[0m \u001B[0;34m\u001B[0m\u001B[0m\n\u001B[1;32m     34\u001B[0m     \u001B[0;32mdef\u001B[0m \u001B[0mforward\u001B[0m\u001B[0;34m(\u001B[0m\u001B[0mself\u001B[0m\u001B[0;34m,\u001B[0m\u001B[0mx\u001B[0m\u001B[0;34m)\u001B[0m\u001B[0;34m:\u001B[0m\u001B[0;34m\u001B[0m\u001B[0;34m\u001B[0m\u001B[0m\n\u001B[0;32m---> 35\u001B[0;31m         \u001B[0mself\u001B[0m\u001B[0;34m.\u001B[0m\u001B[0myj\u001B[0m\u001B[0;34m=\u001B[0m\u001B[0mnp\u001B[0m\u001B[0;34m.\u001B[0m\u001B[0mdot\u001B[0m\u001B[0;34m(\u001B[0m\u001B[0mx\u001B[0m\u001B[0;34m,\u001B[0m\u001B[0mself\u001B[0m\u001B[0;34m.\u001B[0m\u001B[0mwij\u001B[0m\u001B[0;34m)\u001B[0m\u001B[0;34m+\u001B[0m\u001B[0mself\u001B[0m\u001B[0;34m.\u001B[0m\u001B[0mbi\u001B[0m\u001B[0;34m\u001B[0m\u001B[0;34m\u001B[0m\u001B[0m\n\u001B[0m\u001B[1;32m     36\u001B[0m         \u001B[0mself\u001B[0m\u001B[0;34m.\u001B[0m\u001B[0mzj\u001B[0m\u001B[0;34m=\u001B[0m\u001B[0mself\u001B[0m\u001B[0;34m.\u001B[0m\u001B[0msigmode\u001B[0m\u001B[0;34m(\u001B[0m\u001B[0mself\u001B[0m\u001B[0;34m.\u001B[0m\u001B[0myj\u001B[0m\u001B[0;34m)\u001B[0m\u001B[0;34m\u001B[0m\u001B[0;34m\u001B[0m\u001B[0m\n\u001B[1;32m     37\u001B[0m \u001B[0;34m\u001B[0m\u001B[0m\n",
      "\u001B[0;32m<__array_function__ internals>\u001B[0m in \u001B[0;36mdot\u001B[0;34m(*args, **kwargs)\u001B[0m\n",
      "\u001B[0;31mKeyboardInterrupt\u001B[0m: "
     ]
    }
   ],
   "source": [
    "def adjust(train_x,train_y,test_x,test_y):\n",
    "    \"\"\"\n",
    "    To decide the parameter of hidden layer\n",
    "    \"\"\"\n",
    "    for dim in range(3, 10):\n",
    "        data = BP()\n",
    "        data.dim_hide = 5*dim\n",
    "        data.init_network(train_x/255.0,train_y)\n",
    "        a=[0.1]\n",
    "        for i in range(10):\n",
    "            data.train(i)\n",
    "            accuracy=data.test(test_x/255.0,test_y)\n",
    "            a.append(accuracy)\n",
    "        T=range(1,11)\n",
    "        plt.plot(T, a[1:11], label='dim = %d' % (dim*5))\n",
    "        plt.xlim(0, 10)\n",
    "        plt.ylim(0.9, 1)\n",
    "        plt.xlabel('iters')\n",
    "        plt.ylabel(\"accuracy\")\n",
    "        plt.title('Choose Best NN Parameter ')\n",
    "        ans = 'circling to get best parameter----->epoch:%d dim_hide:%d accuracy:%.4f\\n' % (10, dim, accuracy)\n",
    "        print(ans)\n",
    "        with open('/Users/zbx/Desktop/best_parameter.txt', 'w') as f:\n",
    "            f.write(ans)\n",
    "    plt.savefig('/Users/zbx/Desktop/ChoosePara.jpg')\n",
    "    f.close()\n",
    "\n",
    "adjust(train_x,train_y,test_x,test_y)"
   ],
   "metadata": {
    "collapsed": false,
    "pycharm": {
     "name": "#%%\n"
    }
   }
  }
 ],
 "metadata": {
  "kernelspec": {
   "display_name": "Python 3",
   "language": "python",
   "name": "python3"
  },
  "language_info": {
   "codemirror_mode": {
    "name": "ipython",
    "version": 2
   },
   "file_extension": ".py",
   "mimetype": "text/x-python",
   "name": "python",
   "nbconvert_exporter": "python",
   "pygments_lexer": "ipython2",
   "version": "2.7.6"
  }
 },
 "nbformat": 4,
 "nbformat_minor": 0
}