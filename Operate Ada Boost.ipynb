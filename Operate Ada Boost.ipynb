{
 "cells": [
  {
   "cell_type": "markdown",
   "source": [
    "## 加载"
   ],
   "metadata": {
    "collapsed": false
   }
  },
  {
   "cell_type": "code",
   "execution_count": 3,
   "outputs": [
    {
     "name": "stdout",
     "output_type": "stream",
     "text": [
      "train Data loaded\n",
      "t10k Data loaded\n"
     ]
    }
   ],
   "source": [
    "import matplotlib.pyplot as plt\n",
    "import argparse\n",
    "from Adaboost import Ada\n",
    "import PrePro as pr\n",
    "\n",
    "\n",
    "\"\"\"\n",
    "input params, including stride length, batch size, maximal iteration and Train Set folder\n",
    "\"\"\"\n",
    "'''\n",
    "def process_command():\n",
    "    parser = argparse.ArgumentParser()\n",
    "    parser.add_argument('--iter', '-t', type=int, default=30, help='Number of iterations')\n",
    "    parser.add_argument('--stride','-l', type=float, default=0.01, help='Initial Stride Length')\n",
    "    parser.add_argument('--batch', '-b', type=int, default=512, help='Batch Size Number')\n",
    "    parser.add_argument('--train', '-tr', type=str, default='TrainSet', help='Train Set folder')\n",
    "    parser.add_argument('--test', '-ts', type=str, default='TestSet', help='TestSet folder')\n",
    "    return parser.parse_args()\n",
    "\n",
    "\n",
    "args = process_command()\n",
    "test = args.test\n",
    "T=args.iter\n",
    "stride=args.stride\n",
    "batch=args.batch\n",
    "train=args.train\n",
    "'''\n",
    "T=8\n",
    "train='TrainSet'\n",
    "test='TestSet'\n",
    "stride=0.01\n",
    "batch=128\n",
    "train_x,train_y = pr.load(train,'train')\n",
    "test_x, test_y = pr.load(test, 't10k')\n",
    "A=Ada(train_x,train_y,False)"
   ],
   "metadata": {
    "collapsed": false,
    "pycharm": {
     "name": "#%%\n"
    }
   }
  },
  {
   "cell_type": "markdown",
   "source": [
    "## 训练"
   ],
   "metadata": {
    "collapsed": false
   }
  },
  {
   "cell_type": "code",
   "execution_count": 4,
   "outputs": [
    {
     "name": "stdout",
     "output_type": "stream",
     "text": [
      "0\n",
      "\u001B[F1\n",
      "\u001B[F2\n",
      "\u001B[F3\n",
      "\u001B[F4\n",
      "\u001B[F5\n",
      "\u001B[F6\n",
      "\u001B[F7\n",
      "\u001B[F8\n",
      "\u001B[F9\n",
      "\u001B[Fiteration 1, loss 2.0330610747455715\n",
      "0\n",
      "\u001B[F1\n",
      "\u001B[F2\n",
      "\u001B[F3\n",
      "\u001B[F4\n",
      "\u001B[F5\n",
      "\u001B[F6\n",
      "\u001B[F7\n",
      "\u001B[F8\n",
      "\u001B[F9\n",
      "\u001B[Fiteration 2, loss 1.8607060084855118\n",
      "0\n",
      "\u001B[F1\n",
      "\u001B[F2\n",
      "\u001B[F3\n",
      "\u001B[F4\n",
      "\u001B[F5\n",
      "\u001B[F6\n",
      "\u001B[F7\n",
      "\u001B[F8\n",
      "\u001B[F9\n",
      "\u001B[Fiteration 3, loss 1.7339690136743864\n",
      "0\n",
      "\u001B[F1\n",
      "\u001B[F2\n",
      "\u001B[F3\n",
      "\u001B[F4\n",
      "\u001B[F5\n",
      "\u001B[F6\n",
      "\u001B[F7\n",
      "\u001B[F8\n",
      "\u001B[F9\n",
      "\u001B[Fiteration 4, loss 1.6366354170623563\n",
      "0\n",
      "\u001B[F1\n",
      "\u001B[F2\n",
      "\u001B[F3\n",
      "\u001B[F4\n",
      "\u001B[F5\n",
      "\u001B[F6\n",
      "\u001B[F7\n",
      "\u001B[F8\n",
      "\u001B[F9\n",
      "\u001B[Fiteration 5, loss 1.5520780213715952\n",
      "0.6277968830054883\n",
      "0\n",
      "\u001B[F1\n",
      "\u001B[F2\n",
      "\u001B[F3\n",
      "\u001B[F4\n",
      "\u001B[F5\n",
      "\u001B[F6\n",
      "\u001B[F7\n",
      "\u001B[F8\n",
      "\u001B[F9\n",
      "\u001B[Fiteration 1, loss 2.1237161020384643\n",
      "0\n",
      "\u001B[F1\n",
      "\u001B[F2\n",
      "\u001B[F3\n",
      "\u001B[F4\n",
      "\u001B[F5\n",
      "\u001B[F6\n",
      "\u001B[F7\n",
      "\u001B[F8\n",
      "\u001B[F9\n",
      "\u001B[Fiteration 2, loss 1.9829471196806472\n",
      "0\n",
      "\u001B[F1\n",
      "\u001B[F2\n",
      "\u001B[F3\n",
      "\u001B[F4\n",
      "\u001B[F5\n",
      "\u001B[F6\n",
      "\u001B[F7\n",
      "\u001B[F8\n",
      "\u001B[F9\n",
      "\u001B[Fiteration 3, loss 1.8970281745912323\n",
      "0\n",
      "\u001B[F1\n",
      "\u001B[F2\n",
      "\u001B[F3\n",
      "\u001B[F4\n",
      "\u001B[F5\n",
      "\u001B[F6\n",
      "\u001B[F7\n",
      "\u001B[F8\n",
      "\u001B[F9\n",
      "\u001B[Fiteration 4, loss 1.8333613736525054\n",
      "0\n",
      "\u001B[F1\n",
      "\u001B[F2\n",
      "\u001B[F3\n",
      "\u001B[F4\n",
      "\u001B[F5\n",
      "\u001B[F6\n",
      "\u001B[F7\n",
      "\u001B[F8\n",
      "\u001B[F9\n",
      "\u001B[Fiteration 5, loss 1.7461627806727478\n",
      "0.0696949561834605\n",
      "0\n",
      "\u001B[F1\n",
      "\u001B[F2\n",
      "\u001B[F3\n",
      "\u001B[F4\n",
      "\u001B[F5\n",
      "\u001B[F6\n",
      "\u001B[F7\n",
      "\u001B[F8\n",
      "\u001B[F9\n",
      "\u001B[Fiteration 1, loss 2.1436908113113278\n",
      "0\n",
      "\u001B[F1\n",
      "\u001B[F2\n",
      "\u001B[F3\n",
      "\u001B[F4\n",
      "\u001B[F5\n",
      "\u001B[F6\n",
      "\u001B[F7\n",
      "\u001B[F8\n",
      "\u001B[F9\n",
      "\u001B[Fiteration 2, loss 2.008905473387831\n",
      "0\n",
      "\u001B[F1\n",
      "\u001B[F2\n",
      "\u001B[F3\n",
      "\u001B[F4\n",
      "\u001B[F5\n",
      "\u001B[F6\n",
      "\u001B[F7\n",
      "\u001B[F8\n",
      "\u001B[F9\n",
      "\u001B[Fiteration 3, loss 1.9199871346414772\n",
      "0\n",
      "\u001B[F1\n",
      "\u001B[F2\n",
      "\u001B[F3\n",
      "\u001B[F4\n",
      "\u001B[F5\n",
      "\u001B[F6\n",
      "\u001B[F7\n",
      "\u001B[F8\n",
      "\u001B[F9\n",
      "\u001B[Fiteration 4, loss 1.8451123861091343\n",
      "0\n",
      "\u001B[F1\n",
      "\u001B[F2\n",
      "\u001B[F3\n",
      "\u001B[F4\n",
      "\u001B[F5\n",
      "\u001B[F6\n",
      "\u001B[F7\n",
      "\u001B[F8\n",
      "\u001B[F9\n",
      "\u001B[Fiteration 5, loss 1.779616040148075\n",
      "0.01750639059756309\n",
      "0\n"
     ]
    },
    {
     "ename": "KeyboardInterrupt",
     "evalue": "",
     "output_type": "error",
     "traceback": [
      "\u001B[0;31m---------------------------------------------------------------------------\u001B[0m",
      "\u001B[0;31mKeyboardInterrupt\u001B[0m                         Traceback (most recent call last)",
      "\u001B[0;32m<ipython-input-4-0550e1a08c59>\u001B[0m in \u001B[0;36m<module>\u001B[0;34m\u001B[0m\n\u001B[1;32m      1\u001B[0m \u001B[0;31m#L.load()\u001B[0m\u001B[0;34m\u001B[0m\u001B[0;34m\u001B[0m\u001B[0;34m\u001B[0m\u001B[0m\n\u001B[1;32m      2\u001B[0m \u001B[0;32mfor\u001B[0m \u001B[0mi\u001B[0m \u001B[0;32min\u001B[0m \u001B[0mrange\u001B[0m\u001B[0;34m(\u001B[0m\u001B[0;36m5\u001B[0m\u001B[0;34m)\u001B[0m\u001B[0;34m:\u001B[0m\u001B[0;34m\u001B[0m\u001B[0;34m\u001B[0m\u001B[0m\n\u001B[0;32m----> 3\u001B[0;31m     \u001B[0mA\u001B[0m\u001B[0;34m.\u001B[0m\u001B[0mtrain\u001B[0m\u001B[0;34m(\u001B[0m\u001B[0mT\u001B[0m\u001B[0;34m,\u001B[0m\u001B[0mstride\u001B[0m\u001B[0;34m,\u001B[0m\u001B[0mbatch\u001B[0m\u001B[0;34m)\u001B[0m\u001B[0;34m\u001B[0m\u001B[0;34m\u001B[0m\u001B[0m\n\u001B[0m",
      "\u001B[0;32m~/PycharmProjects/ML/Adaboost.py\u001B[0m in \u001B[0;36mtrain\u001B[0;34m(self, iter, stride, batch)\u001B[0m\n\u001B[1;32m     39\u001B[0m         \u001B[0mL\u001B[0m\u001B[0;34m=\u001B[0m\u001B[0mLinear\u001B[0m\u001B[0;34m(\u001B[0m\u001B[0mself\u001B[0m\u001B[0;34m.\u001B[0m\u001B[0mtrain_x\u001B[0m\u001B[0;34m,\u001B[0m \u001B[0mself\u001B[0m\u001B[0;34m.\u001B[0m\u001B[0mtrain_y\u001B[0m\u001B[0;34m)\u001B[0m\u001B[0;34m\u001B[0m\u001B[0;34m\u001B[0m\u001B[0m\n\u001B[1;32m     40\u001B[0m         \u001B[0mL\u001B[0m\u001B[0;34m.\u001B[0m\u001B[0mset_weight\u001B[0m\u001B[0;34m(\u001B[0m\u001B[0mD\u001B[0m\u001B[0;34m)\u001B[0m\u001B[0;34m\u001B[0m\u001B[0;34m\u001B[0m\u001B[0m\n\u001B[0;32m---> 41\u001B[0;31m         \u001B[0mself\u001B[0m\u001B[0;34m.\u001B[0m\u001B[0mthetas\u001B[0m\u001B[0;34m.\u001B[0m\u001B[0mappend\u001B[0m\u001B[0;34m(\u001B[0m\u001B[0mL\u001B[0m\u001B[0;34m.\u001B[0m\u001B[0mtrain\u001B[0m\u001B[0;34m(\u001B[0m\u001B[0miter\u001B[0m\u001B[0;34m,\u001B[0m\u001B[0mstride\u001B[0m\u001B[0;34m,\u001B[0m\u001B[0mbatch\u001B[0m\u001B[0;34m)\u001B[0m\u001B[0;34m)\u001B[0m\u001B[0;34m\u001B[0m\u001B[0;34m\u001B[0m\u001B[0m\n\u001B[0m\u001B[1;32m     42\u001B[0m         \u001B[0mself\u001B[0m\u001B[0;34m.\u001B[0m\u001B[0msubtrainers\u001B[0m\u001B[0;34m.\u001B[0m\u001B[0mappend\u001B[0m\u001B[0;34m(\u001B[0m\u001B[0;34m(\u001B[0m\u001B[0mL\u001B[0m\u001B[0;34m)\u001B[0m\u001B[0;34m)\u001B[0m\u001B[0;34m\u001B[0m\u001B[0;34m\u001B[0m\u001B[0m\n\u001B[1;32m     43\u001B[0m         \u001B[0me\u001B[0m\u001B[0;34m=\u001B[0m\u001B[0mL\u001B[0m\u001B[0;34m.\u001B[0m\u001B[0merror\u001B[0m\u001B[0;34m(\u001B[0m\u001B[0;34m)\u001B[0m\u001B[0;34m\u001B[0m\u001B[0;34m\u001B[0m\u001B[0m\n",
      "\u001B[0;32m~/PycharmProjects/ML/Linear.py\u001B[0m in \u001B[0;36mtrain\u001B[0;34m(self, iter, stride, batch)\u001B[0m\n\u001B[1;32m    117\u001B[0m                 \u001B[0mprint\u001B[0m\u001B[0;34m(\u001B[0m\u001B[0mi\u001B[0m\u001B[0;34m)\u001B[0m\u001B[0;34m\u001B[0m\u001B[0;34m\u001B[0m\u001B[0m\n\u001B[1;32m    118\u001B[0m                 \u001B[0;32mfor\u001B[0m \u001B[0mj\u001B[0m \u001B[0;32min\u001B[0m \u001B[0mrange\u001B[0m\u001B[0;34m(\u001B[0m\u001B[0;36m0\u001B[0m\u001B[0;34m,\u001B[0m\u001B[0;36m784\u001B[0m\u001B[0;34m)\u001B[0m\u001B[0;34m:\u001B[0m\u001B[0;34m\u001B[0m\u001B[0;34m\u001B[0m\u001B[0m\n\u001B[0;32m--> 119\u001B[0;31m                     \u001B[0mtheta\u001B[0m\u001B[0;34m[\u001B[0m\u001B[0mi\u001B[0m\u001B[0;34m]\u001B[0m\u001B[0;34m[\u001B[0m\u001B[0mj\u001B[0m\u001B[0;34m]\u001B[0m\u001B[0;34m-=\u001B[0m\u001B[0mself\u001B[0m\u001B[0;34m.\u001B[0m\u001B[0mgradLF\u001B[0m\u001B[0;34m(\u001B[0m\u001B[0mtheta\u001B[0m\u001B[0;34m,\u001B[0m\u001B[0mbatch_Ims\u001B[0m\u001B[0;34m,\u001B[0m\u001B[0mbatch_labels\u001B[0m\u001B[0;34m,\u001B[0m\u001B[0mi\u001B[0m\u001B[0;34m,\u001B[0m\u001B[0mj\u001B[0m \u001B[0;34m)\u001B[0m\u001B[0;34m*\u001B[0m\u001B[0mstride\u001B[0m\u001B[0;34m/\u001B[0m\u001B[0;34m(\u001B[0m\u001B[0;36m5\u001B[0m\u001B[0;34m+\u001B[0m\u001B[0mt\u001B[0m\u001B[0;34m)\u001B[0m\u001B[0;34m\u001B[0m\u001B[0;34m\u001B[0m\u001B[0m\n\u001B[0m\u001B[1;32m    120\u001B[0m                 \u001B[0msys\u001B[0m\u001B[0;34m.\u001B[0m\u001B[0mstdout\u001B[0m\u001B[0;34m.\u001B[0m\u001B[0mwrite\u001B[0m\u001B[0;34m(\u001B[0m\u001B[0;34m'\\033[F'\u001B[0m\u001B[0;34m)\u001B[0m\u001B[0;34m\u001B[0m\u001B[0;34m\u001B[0m\u001B[0m\n\u001B[1;32m    121\u001B[0m             \u001B[0mt\u001B[0m\u001B[0;34m+=\u001B[0m\u001B[0;36m1\u001B[0m\u001B[0;34m\u001B[0m\u001B[0;34m\u001B[0m\u001B[0m\n",
      "\u001B[0;32m~/PycharmProjects/ML/Linear.py\u001B[0m in \u001B[0;36mgradLF\u001B[0;34m(self, theta, X, Y, p, q)\u001B[0m\n\u001B[1;32m     57\u001B[0m             \u001B[0mnor\u001B[0m\u001B[0;34m=\u001B[0m\u001B[0mnp\u001B[0m\u001B[0;34m.\u001B[0m\u001B[0msum\u001B[0m\u001B[0;34m(\u001B[0m\u001B[0mnp\u001B[0m\u001B[0;34m.\u001B[0m\u001B[0mexp\u001B[0m\u001B[0;34m(\u001B[0m\u001B[0mnp\u001B[0m\u001B[0;34m.\u001B[0m\u001B[0mdot\u001B[0m\u001B[0;34m(\u001B[0m\u001B[0mtheta\u001B[0m\u001B[0;34m,\u001B[0m\u001B[0mX\u001B[0m\u001B[0;34m[\u001B[0m\u001B[0mi\u001B[0m\u001B[0;34m]\u001B[0m\u001B[0;34m)\u001B[0m\u001B[0;34m)\u001B[0m\u001B[0;34m)\u001B[0m\u001B[0;34m\u001B[0m\u001B[0;34m\u001B[0m\u001B[0m\n\u001B[1;32m     58\u001B[0m             \u001B[0;32mfor\u001B[0m \u001B[0mj\u001B[0m \u001B[0;32min\u001B[0m \u001B[0mrange\u001B[0m\u001B[0;34m(\u001B[0m\u001B[0;36m0\u001B[0m\u001B[0;34m,\u001B[0m \u001B[0;36m10\u001B[0m\u001B[0;34m)\u001B[0m\u001B[0;34m:\u001B[0m\u001B[0;34m\u001B[0m\u001B[0;34m\u001B[0m\u001B[0m\n\u001B[0;32m---> 59\u001B[0;31m                 \u001B[0;32mif\u001B[0m \u001B[0mY\u001B[0m\u001B[0;34m[\u001B[0m\u001B[0mi\u001B[0m\u001B[0;34m]\u001B[0m \u001B[0;34m==\u001B[0m \u001B[0mj\u001B[0m\u001B[0;34m:\u001B[0m\u001B[0;34m\u001B[0m\u001B[0;34m\u001B[0m\u001B[0m\n\u001B[0m\u001B[1;32m     60\u001B[0m                     \u001B[0;32mif\u001B[0m \u001B[0mp\u001B[0m \u001B[0;34m==\u001B[0m \u001B[0mj\u001B[0m\u001B[0;34m:\u001B[0m\u001B[0;34m\u001B[0m\u001B[0;34m\u001B[0m\u001B[0m\n\u001B[1;32m     61\u001B[0m                         \u001B[0ma\u001B[0m\u001B[0;34m=\u001B[0m\u001B[0mX\u001B[0m\u001B[0;34m[\u001B[0m\u001B[0mi\u001B[0m\u001B[0;34m]\u001B[0m\u001B[0;34m[\u001B[0m\u001B[0mq\u001B[0m\u001B[0;34m]\u001B[0m \u001B[0;34m-\u001B[0m \u001B[0;34m(\u001B[0m\u001B[0mmath\u001B[0m\u001B[0;34m.\u001B[0m\u001B[0mexp\u001B[0m\u001B[0;34m(\u001B[0m\u001B[0mnp\u001B[0m\u001B[0;34m.\u001B[0m\u001B[0mdot\u001B[0m\u001B[0;34m(\u001B[0m\u001B[0mtheta\u001B[0m\u001B[0;34m[\u001B[0m\u001B[0mp\u001B[0m\u001B[0;34m]\u001B[0m\u001B[0;34m,\u001B[0m \u001B[0mX\u001B[0m\u001B[0;34m[\u001B[0m\u001B[0mi\u001B[0m\u001B[0;34m]\u001B[0m\u001B[0;34m)\u001B[0m\u001B[0;34m)\u001B[0m \u001B[0;34m*\u001B[0m \u001B[0mX\u001B[0m\u001B[0;34m[\u001B[0m\u001B[0mi\u001B[0m\u001B[0;34m]\u001B[0m\u001B[0;34m[\u001B[0m\u001B[0mq\u001B[0m\u001B[0;34m]\u001B[0m\u001B[0;34m)\u001B[0m \u001B[0;34m/\u001B[0m \u001B[0mnor\u001B[0m\u001B[0;34m\u001B[0m\u001B[0;34m\u001B[0m\u001B[0m\n",
      "\u001B[0;31mKeyboardInterrupt\u001B[0m: "
     ]
    }
   ],
   "source": [
    "#L.load()\n",
    "for i in range(5):\n",
    "    A.train(T,stride,batch)"
   ],
   "metadata": {
    "collapsed": false,
    "pycharm": {
     "name": "#%%\n"
    }
   }
  },
  {
   "cell_type": "markdown",
   "source": [
    "## 测试准确率"
   ],
   "metadata": {
    "collapsed": false
   }
  },
  {
   "cell_type": "code",
   "execution_count": null,
   "outputs": [],
   "source": [
    "x=test_x[18]\n",
    "pred_y = A.predict(x)\n",
    "plt.imshow(x.reshape((28,28)),cmap = plt.cm.gray)\n",
    "print(\"y is:\"+str(test_y[18]))\n",
    "print(\"your predicate result is :\"+str(pred_y))\n",
    "\n"
   ],
   "metadata": {
    "collapsed": false,
    "pycharm": {
     "name": "#%%\n"
    }
   }
  }
 ],
 "metadata": {
  "kernelspec": {
   "display_name": "Python 3",
   "language": "python",
   "name": "python3"
  },
  "language_info": {
   "codemirror_mode": {
    "name": "ipython",
    "version": 2
   },
   "file_extension": ".py",
   "mimetype": "text/x-python",
   "name": "python",
   "nbconvert_exporter": "python",
   "pygments_lexer": "ipython2",
   "version": "2.7.6"
  }
 },
 "nbformat": 4,
 "nbformat_minor": 0
}